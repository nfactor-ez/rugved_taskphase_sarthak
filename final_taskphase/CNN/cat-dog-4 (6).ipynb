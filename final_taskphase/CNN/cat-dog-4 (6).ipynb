{
 "cells": [
  {
   "cell_type": "code",
   "execution_count": 1,
   "id": "c68a73ac",
   "metadata": {
    "_cell_guid": "b1076dfc-b9ad-4769-8c92-a6c4dae69d19",
    "_uuid": "8f2839f25d086af736a60e9eeb907d3b93b6e0e5",
    "execution": {
     "iopub.execute_input": "2025-04-15T16:05:52.747642Z",
     "iopub.status.busy": "2025-04-15T16:05:52.747448Z",
     "iopub.status.idle": "2025-04-15T16:06:02.911905Z",
     "shell.execute_reply": "2025-04-15T16:06:02.911121Z"
    },
    "papermill": {
     "duration": 10.169682,
     "end_time": "2025-04-15T16:06:02.913362",
     "exception": false,
     "start_time": "2025-04-15T16:05:52.743680",
     "status": "completed"
    },
    "tags": []
   },
   "outputs": [],
   "source": [
    "import os\n",
    "import torch\n",
    "import torchvision\n",
    "from torchvision import datasets, transforms, models\n",
    "from torch.utils.data import DataLoader, random_split\n",
    "import torch.nn as nn\n",
    "import torch.optim as optim\n",
    "import matplotlib.pyplot as plt\n",
    "import torch.nn.functional as F\n"
   ]
  },
  {
   "cell_type": "code",
   "execution_count": 2,
   "id": "48bf0d5a",
   "metadata": {
    "execution": {
     "iopub.execute_input": "2025-04-15T16:06:02.919460Z",
     "iopub.status.busy": "2025-04-15T16:06:02.919174Z",
     "iopub.status.idle": "2025-04-15T16:06:03.009520Z",
     "shell.execute_reply": "2025-04-15T16:06:03.008813Z"
    },
    "papermill": {
     "duration": 0.094483,
     "end_time": "2025-04-15T16:06:03.010698",
     "exception": false,
     "start_time": "2025-04-15T16:06:02.916215",
     "status": "completed"
    },
    "tags": []
   },
   "outputs": [
    {
     "data": {
      "text/plain": [
       "device(type='cuda')"
      ]
     },
     "execution_count": 2,
     "metadata": {},
     "output_type": "execute_result"
    }
   ],
   "source": [
    "def get_default_device():\n",
    "    if torch.cuda.is_available():\n",
    "        return torch.device('cuda')\n",
    "    else:\n",
    "        return torch.device('cpu')\n",
    "device=get_default_device()\n",
    "device"
   ]
  },
  {
   "cell_type": "code",
   "execution_count": 3,
   "id": "3606d0e0",
   "metadata": {
    "execution": {
     "iopub.execute_input": "2025-04-15T16:06:03.016435Z",
     "iopub.status.busy": "2025-04-15T16:06:03.016215Z",
     "iopub.status.idle": "2025-04-15T16:06:03.019958Z",
     "shell.execute_reply": "2025-04-15T16:06:03.019271Z"
    },
    "papermill": {
     "duration": 0.007845,
     "end_time": "2025-04-15T16:06:03.021123",
     "exception": false,
     "start_time": "2025-04-15T16:06:03.013278",
     "status": "completed"
    },
    "tags": []
   },
   "outputs": [],
   "source": [
    "def to_device(data,device):#move tensor to device\n",
    "    if isinstance(data,(list,tuple)):\n",
    "        return [to_device(x,device) for x in data]\n",
    "    return data.to(device,non_blocking=True)"
   ]
  },
  {
   "cell_type": "code",
   "execution_count": 4,
   "id": "8dbe4ee0",
   "metadata": {
    "execution": {
     "iopub.execute_input": "2025-04-15T16:06:03.026781Z",
     "iopub.status.busy": "2025-04-15T16:06:03.026251Z",
     "iopub.status.idle": "2025-04-15T16:06:24.473110Z",
     "shell.execute_reply": "2025-04-15T16:06:24.472493Z"
    },
    "papermill": {
     "duration": 21.450988,
     "end_time": "2025-04-15T16:06:24.474451",
     "exception": false,
     "start_time": "2025-04-15T16:06:03.023463",
     "status": "completed"
    },
    "tags": []
   },
   "outputs": [],
   "source": [
    "transform = transforms.Compose([\n",
    "    transforms.Resize((128, 128)),\n",
    "    transforms.ToTensor(),\n",
    "    transforms.Normalize([0.5]*3, [0.5]*3)\n",
    "])\n",
    "\n",
    "train_dataset = datasets.ImageFolder('/kaggle/input/dogs-vs-cats/train', transform=transform)\n",
    "test_dataset = datasets.ImageFolder('/kaggle/input/dogs-vs-cats/test', transform=transform)\n",
    "\n",
    "train_loader = DataLoader(train_dataset, batch_size=32, shuffle=True)\n",
    "test_loader = DataLoader(test_dataset, batch_size=32, shuffle=False)\n"
   ]
  },
  {
   "cell_type": "code",
   "execution_count": 5,
   "id": "860da87e",
   "metadata": {
    "execution": {
     "iopub.execute_input": "2025-04-15T16:06:24.480336Z",
     "iopub.status.busy": "2025-04-15T16:06:24.480125Z",
     "iopub.status.idle": "2025-04-15T16:06:24.483856Z",
     "shell.execute_reply": "2025-04-15T16:06:24.483353Z"
    },
    "papermill": {
     "duration": 0.007605,
     "end_time": "2025-04-15T16:06:24.484874",
     "exception": false,
     "start_time": "2025-04-15T16:06:24.477269",
     "status": "completed"
    },
    "tags": []
   },
   "outputs": [],
   "source": [
    "class DeviceDataLoader():\n",
    "    def __init__(self,dl,device):\n",
    "        self.dl=dl\n",
    "        self.device=device\n",
    "\n",
    "    def __iter__(self):\n",
    "        for b in self.dl:\n",
    "            yield to_device(b, self.device)\n",
    "\n",
    "    def __len__(self):\n",
    "            return len(self.dl)"
   ]
  },
  {
   "cell_type": "code",
   "execution_count": 6,
   "id": "15da2c53",
   "metadata": {
    "execution": {
     "iopub.execute_input": "2025-04-15T16:06:24.491101Z",
     "iopub.status.busy": "2025-04-15T16:06:24.490901Z",
     "iopub.status.idle": "2025-04-15T16:06:24.493992Z",
     "shell.execute_reply": "2025-04-15T16:06:24.493323Z"
    },
    "papermill": {
     "duration": 0.006942,
     "end_time": "2025-04-15T16:06:24.495124",
     "exception": false,
     "start_time": "2025-04-15T16:06:24.488182",
     "status": "completed"
    },
    "tags": []
   },
   "outputs": [],
   "source": [
    "test_loader=DeviceDataLoader(test_loader,device)\n",
    "train_loader=DeviceDataLoader(train_loader,device)"
   ]
  },
  {
   "cell_type": "code",
   "execution_count": 7,
   "id": "6edad122",
   "metadata": {
    "execution": {
     "iopub.execute_input": "2025-04-15T16:06:24.500517Z",
     "iopub.status.busy": "2025-04-15T16:06:24.499997Z",
     "iopub.status.idle": "2025-04-15T16:06:24.505274Z",
     "shell.execute_reply": "2025-04-15T16:06:24.504605Z"
    },
    "papermill": {
     "duration": 0.008984,
     "end_time": "2025-04-15T16:06:24.506400",
     "exception": false,
     "start_time": "2025-04-15T16:06:24.497416",
     "status": "completed"
    },
    "tags": []
   },
   "outputs": [],
   "source": [
    "\n",
    "class SimpleCNN(nn.Module):\n",
    "    def __init__(self):\n",
    "        super().__init__()\n",
    "        self.conv1 = nn.Conv2d(3, 32, 3, padding=1)\n",
    "        self.conv2 = nn.Conv2d(32, 64, 3, padding=1)\n",
    "        self.conv3 = nn.Conv2d(64, 128, 3, padding=1)\n",
    "        self.pool = nn.MaxPool2d(2)\n",
    "        self.dropout = nn.Dropout(0.5)\n",
    "        self.fc = nn.Linear(128 * 16 * 16, 2) \n",
    "\n",
    "    def forward(self, x):\n",
    "        x = self.pool(F.relu(self.conv1(x)))\n",
    "        x = self.pool(F.relu(self.conv2(x)))\n",
    "        x = self.pool(F.relu(self.conv3(x)))\n",
    "        x = self.dropout(x)\n",
    "        x = torch.flatten(x, 1)\n",
    "        x = self.fc(x)\n",
    "        return x"
   ]
  },
  {
   "cell_type": "code",
   "execution_count": 8,
   "id": "923e8578",
   "metadata": {
    "execution": {
     "iopub.execute_input": "2025-04-15T16:06:24.511926Z",
     "iopub.status.busy": "2025-04-15T16:06:24.511412Z",
     "iopub.status.idle": "2025-04-15T16:06:24.557165Z",
     "shell.execute_reply": "2025-04-15T16:06:24.556500Z"
    },
    "papermill": {
     "duration": 0.049592,
     "end_time": "2025-04-15T16:06:24.558308",
     "exception": false,
     "start_time": "2025-04-15T16:06:24.508716",
     "status": "completed"
    },
    "tags": []
   },
   "outputs": [],
   "source": [
    "model = SimpleCNN()\n",
    "loss_fn = nn.CrossEntropyLoss()\n",
    "optimizer = optim.Adam(model.parameters(), lr=0.001)"
   ]
  },
  {
   "cell_type": "code",
   "execution_count": 9,
   "id": "9888d4ea",
   "metadata": {
    "execution": {
     "iopub.execute_input": "2025-04-15T16:06:24.563362Z",
     "iopub.status.busy": "2025-04-15T16:06:24.563171Z",
     "iopub.status.idle": "2025-04-15T16:06:24.773262Z",
     "shell.execute_reply": "2025-04-15T16:06:24.772685Z"
    },
    "papermill": {
     "duration": 0.214006,
     "end_time": "2025-04-15T16:06:24.774552",
     "exception": false,
     "start_time": "2025-04-15T16:06:24.560546",
     "status": "completed"
    },
    "tags": []
   },
   "outputs": [],
   "source": [
    "model =to_device(model,device)"
   ]
  },
  {
   "cell_type": "code",
   "execution_count": 10,
   "id": "2c0e0efb",
   "metadata": {
    "execution": {
     "iopub.execute_input": "2025-04-15T16:06:24.780254Z",
     "iopub.status.busy": "2025-04-15T16:06:24.779876Z",
     "iopub.status.idle": "2025-04-15T16:32:31.669623Z",
     "shell.execute_reply": "2025-04-15T16:32:31.668899Z"
    },
    "papermill": {
     "duration": 1566.896846,
     "end_time": "2025-04-15T16:32:31.673909",
     "exception": false,
     "start_time": "2025-04-15T16:06:24.777063",
     "status": "completed"
    },
    "tags": []
   },
   "outputs": [
    {
     "name": "stdout",
     "output_type": "stream",
     "text": [
      "Epoch 1 Accuracy: 69.67%\n",
      "Epoch 2 Accuracy: 77.61%\n",
      "Epoch 3 Accuracy: 81.22%\n",
      "Epoch 4 Accuracy: 84.06%\n",
      "Epoch 5 Accuracy: 85.95%\n",
      "Epoch 6 Accuracy: 87.25%\n",
      "Epoch 7 Accuracy: 88.36%\n",
      "Epoch 8 Accuracy: 89.42%\n",
      "Epoch 9 Accuracy: 90.25%\n",
      "Epoch 10 Accuracy: 91.19%\n",
      "Epoch 11 Accuracy: 91.90%\n",
      "Epoch 12 Accuracy: 92.81%\n",
      "Epoch 13 Accuracy: 92.73%\n",
      "Epoch 14 Accuracy: 93.44%\n",
      "Epoch 15 Accuracy: 94.14%\n",
      "Epoch 16 Accuracy: 94.22%\n",
      "Epoch 17 Accuracy: 94.35%\n",
      "Epoch 18 Accuracy: 94.81%\n",
      "Epoch 19 Accuracy: 95.09%\n",
      "Epoch 20 Accuracy: 95.00%\n"
     ]
    }
   ],
   "source": [
    "for epoch in range(20):\n",
    "    total, correct = 0, 0\n",
    "    for x, y in train_loader:\n",
    "        out = model(x)\n",
    "        loss = loss_fn(out, y)\n",
    "\n",
    "        optimizer.zero_grad()\n",
    "        loss.backward()\n",
    "        optimizer.step()\n",
    "\n",
    "        correct += (out.argmax(1) == y).sum().item()\n",
    "        total += y.size(0)\n",
    "\n",
    "    print(f\"Epoch {epoch+1} Accuracy: {100 * correct / total:.2f}%\")"
   ]
  },
  {
   "cell_type": "code",
   "execution_count": 11,
   "id": "0c28cf1e",
   "metadata": {
    "execution": {
     "iopub.execute_input": "2025-04-15T16:32:31.680789Z",
     "iopub.status.busy": "2025-04-15T16:32:31.680570Z",
     "iopub.status.idle": "2025-04-15T16:32:31.692718Z",
     "shell.execute_reply": "2025-04-15T16:32:31.692194Z"
    },
    "papermill": {
     "duration": 0.016698,
     "end_time": "2025-04-15T16:32:31.693677",
     "exception": false,
     "start_time": "2025-04-15T16:32:31.676979",
     "status": "completed"
    },
    "tags": []
   },
   "outputs": [],
   "source": [
    "torch.save(model.state_dict(),'trained_net.pth')"
   ]
  },
  {
   "cell_type": "code",
   "execution_count": 12,
   "id": "a3360dcc",
   "metadata": {
    "execution": {
     "iopub.execute_input": "2025-04-15T16:32:31.700555Z",
     "iopub.status.busy": "2025-04-15T16:32:31.700351Z",
     "iopub.status.idle": "2025-04-15T16:32:31.710350Z",
     "shell.execute_reply": "2025-04-15T16:32:31.709630Z"
    },
    "papermill": {
     "duration": 0.014612,
     "end_time": "2025-04-15T16:32:31.711330",
     "exception": false,
     "start_time": "2025-04-15T16:32:31.696718",
     "status": "completed"
    },
    "tags": []
   },
   "outputs": [
    {
     "name": "stderr",
     "output_type": "stream",
     "text": [
      "/tmp/ipykernel_19/1519630696.py:2: FutureWarning: You are using `torch.load` with `weights_only=False` (the current default value), which uses the default pickle module implicitly. It is possible to construct malicious pickle data which will execute arbitrary code during unpickling (See https://github.com/pytorch/pytorch/blob/main/SECURITY.md#untrusted-models for more details). In a future release, the default value for `weights_only` will be flipped to `True`. This limits the functions that could be executed during unpickling. Arbitrary objects will no longer be allowed to be loaded via this mode unless they are explicitly allowlisted by the user via `torch.serialization.add_safe_globals`. We recommend you start setting `weights_only=True` for any use case where you don't have full control of the loaded file. Please open an issue on GitHub for any issues related to this experimental feature.\n",
      "  model.load_state_dict(torch.load('trained_net.pth'))\n"
     ]
    },
    {
     "data": {
      "text/plain": [
       "<All keys matched successfully>"
      ]
     },
     "execution_count": 12,
     "metadata": {},
     "output_type": "execute_result"
    }
   ],
   "source": [
    "model=SimpleCNN()\n",
    "model.load_state_dict(torch.load('trained_net.pth'))"
   ]
  },
  {
   "cell_type": "code",
   "execution_count": 13,
   "id": "d34bbbf8",
   "metadata": {
    "execution": {
     "iopub.execute_input": "2025-04-15T16:32:31.718323Z",
     "iopub.status.busy": "2025-04-15T16:32:31.718151Z",
     "iopub.status.idle": "2025-04-15T16:33:14.929270Z",
     "shell.execute_reply": "2025-04-15T16:33:14.928503Z"
    },
    "papermill": {
     "duration": 43.21891,
     "end_time": "2025-04-15T16:33:14.933457",
     "exception": false,
     "start_time": "2025-04-15T16:32:31.714547",
     "status": "completed"
    },
    "tags": []
   },
   "outputs": [
    {
     "name": "stdout",
     "output_type": "stream",
     "text": [
      "Accuracy: 88.34%\n"
     ]
    }
   ],
   "source": [
    "model =to_device(model,device)\n",
    "correct = 0\n",
    "total = 0\n",
    "\n",
    "model.eval()  # set network to evaluation mode\n",
    "\n",
    "with torch.no_grad():  # no gradient computation\n",
    "    for data in test_loader:\n",
    "        images, labels = data\n",
    "        images = images.to(device)\n",
    "        labels = labels.to(device)\n",
    "\n",
    "        output = model(images)\n",
    "        _, predicted = torch.max(output, 1)\n",
    "        total += labels.size(0)\n",
    "        correct += (predicted == labels).sum().item()\n",
    "\n",
    "accuracy = 100 * correct / total\n",
    "print(f\"Accuracy: {accuracy:.2f}%\")\n"
   ]
  }
 ],
 "metadata": {
  "kaggle": {
   "accelerator": "nvidiaTeslaT4",
   "dataSources": [
    {
     "datasetId": 84954,
     "sourceId": 196452,
     "sourceType": "datasetVersion"
    },
    {
     "datasetId": 550917,
     "sourceId": 1003830,
     "sourceType": "datasetVersion"
    },
    {
     "datasetId": 3599110,
     "sourceId": 6261877,
     "sourceType": "datasetVersion"
    }
   ],
   "dockerImageVersionId": 31011,
   "isGpuEnabled": true,
   "isInternetEnabled": true,
   "language": "python",
   "sourceType": "notebook"
  },
  "kernelspec": {
   "display_name": "Python 3",
   "language": "python",
   "name": "python3"
  },
  "language_info": {
   "codemirror_mode": {
    "name": "ipython",
    "version": 3
   },
   "file_extension": ".py",
   "mimetype": "text/x-python",
   "name": "python",
   "nbconvert_exporter": "python",
   "pygments_lexer": "ipython3",
   "version": "3.11.11"
  },
  "papermill": {
   "default_parameters": {},
   "duration": 1650.046807,
   "end_time": "2025-04-15T16:33:18.113406",
   "environment_variables": {},
   "exception": null,
   "input_path": "__notebook__.ipynb",
   "output_path": "__notebook__.ipynb",
   "parameters": {},
   "start_time": "2025-04-15T16:05:48.066599",
   "version": "2.6.0"
  }
 },
 "nbformat": 4,
 "nbformat_minor": 5
}
