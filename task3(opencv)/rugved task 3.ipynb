{
 "cells": [
  {
   "cell_type": "code",
   "execution_count": 14,
   "metadata": {},
   "outputs": [
    {
     "name": "stdout",
     "output_type": "stream",
     "text": [
      "Ball tracking complete. Saved as: Ball_Tracking_Output.mp4\n"
     ]
    }
   ],
   "source": [
    "import cv2\n",
    "import numpy as np\n",
    "\n",
    "output_path = r'C:\\Users\\sarth\\OneDrive\\Desktop\\Ball_Tracking 1.mp4'\n",
    "cap = cv2.VideoCapture(output_path)\n",
    "\n",
    "if not cap.isOpened():\n",
    "    print(\"Error: Could not open the video.\")\n",
    "else:\n",
    "    output_path = 'Ball_Tracking_Output.mp4'\n",
    "    fourcc = cv2.VideoWriter_fourcc(*'mp4v')\n",
    "    out = cv2.VideoWriter(output_path, fourcc, cap.get(cv2.CAP_PROP_FPS), (int(cap.get(3)), int(cap.get(4))))\n",
    "\n",
    "    lower_color = np.array([29, 86, 6])\n",
    "    upper_color = np.array([64, 255, 255])\n",
    "\n",
    "    while cap.isOpened():\n",
    "        ret, frame = cap.read()\n",
    "        if not ret:\n",
    "            break\n",
    "\n",
    "        hsv = cv2.cvtColor(frame, cv2.COLOR_BGR2HSV)\n",
    "        mask = cv2.inRange(hsv, lower_color, upper_color)\n",
    "        contours,_ = cv2.findContours(mask, cv2.RETR_EXTERNAL, cv2.CHAIN_APPROX_SIMPLE)\n",
    "\n",
    "        if contours:\n",
    "            c = max(contours, key=cv2.contourArea)\n",
    "            ((x, y), radius) = cv2.minEnclosingCircle(c)\n",
    "            \n",
    "            if radius > 5:\n",
    "                cv2.circle(frame, (int(x), int(y)), int(radius), (0, 255, 255), 2)\n",
    "                cv2.circle(frame, (int(x), int(y)), 5, (0, 0, 255), -1)\n",
    "\n",
    "        out.write(frame)\n",
    "\n",
    "    cap.release()\n",
    "    out.release()\n",
    "    print(\"Ball tracking complete. Saved as:\", output_path)"
   ]
  }
 ],
 "metadata": {
  "kernelspec": {
   "display_name": "Python 3",
   "language": "python",
   "name": "python3"
  },
  "language_info": {
   "codemirror_mode": {
    "name": "ipython",
    "version": 3
   },
   "file_extension": ".py",
   "mimetype": "text/x-python",
   "name": "python",
   "nbconvert_exporter": "python",
   "pygments_lexer": "ipython3",
   "version": "3.13.1"
  }
 },
 "nbformat": 4,
 "nbformat_minor": 2
}
